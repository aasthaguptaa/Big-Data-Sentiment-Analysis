{
 "cells": [
  {
   "cell_type": "code",
   "execution_count": null,
   "id": "9c746516",
   "metadata": {},
   "outputs": [],
   "source": [
    "import json\n",
    "import pickle\n",
    "import os\n",
    "import emoji\n",
    "import nltk\n",
    "from nltk.corpus import stopwords\n",
    "from nltk.tokenize import RegexpTokenizer\n",
    "from vaderSentiment.vaderSentiment import SentimentIntensityAnalyzer\n",
    "import pandas as pd\n",
    "from sklearn.feature_extraction.text import TfidfVectorizer\n",
    "from sklearn.linear_model import LogisticRegression\n",
    "from sklearn.model_selection import train_test_split\n",
    "from sklearn.metrics import classification_report\n",
    "\n",
    "nltk.download(\"punkt\") # tokenizer\n",
    "nltk.download(\"stopwords\")"
   ]
  },
  {
   "cell_type": "code",
   "execution_count": null,
   "id": "9a14359d",
   "metadata": {},
   "outputs": [],
   "source": [
    "# preprocessing and labeling\n",
    "\n",
    "# stop words in language: english\n",
    "stop_words = set(stopwords.words(\"english\"))\n",
    "\n",
    "tokenizer = RegexpTokenizer(r\"<[^>]+>|[A-Za-z]+\")\n",
    "\n",
    "def preprocessing(text):\n",
    "    # convert emojis to text in <> brackets\n",
    "    text = emoji.demojize(text, delimiters=(\"<\", \">\"))\n",
    "    # convert every word to lowercase to avoid duplicates (Happy and happy should be same)\n",
    "    text = text.lower()\n",
    "    # tokenizing\n",
    "    tokens = tokenizer.tokenize(text)\n",
    "    tokens = [t for t in tokens if t not in stop_words]\n",
    "    return \" \".join(tokens)\n",
    "\n",
    "# vader\n",
    "analyzer = SentimentIntensityAnalyzer()\n",
    "\n",
    "# labeling the comments as 1 for positive and 0 for negative\n",
    "def labeling(text):\n",
    "    score = analyzer.polarity_scores(text)\n",
    "    compound = score[\"compound\"]\n",
    "    return 1 if compound >= 0 else 0"
   ]
  },
  {
   "cell_type": "code",
   "execution_count": null,
   "id": "a2a246a8",
   "metadata": {},
   "outputs": [],
   "source": [
    "# convert the json file to dataframe\n",
    "\n",
    "INPUT_PATH = \"filtered.jsonl\"\n",
    "texts, labels = [], []\n",
    "\n",
    "with open(INPUT_PATH, \"r\", encoding=\"utf-8\") as f:\n",
    "    for entry in f:\n",
    "        comment = json.loads(entry)\n",
    "        unprocessed_text = comment.get(\"body\",\"\")\n",
    "        texts.append(preprocessing(unprocessed_text))\n",
    "        labels.append(labeling(unprocessed_text))\n",
    "        \n",
    "df = pd.DataFrame({\"text\": texts, \"label\": labels})"
   ]
  },
  {
   "cell_type": "code",
   "execution_count": null,
   "id": "9fd6b4bb",
   "metadata": {},
   "outputs": [],
   "source": [
    "# 4. tf-idf vectorizing and train/test splitting\n",
    "vectorizer = TfidfVectorizer()\n",
    "X = vectorizer.fit_transform(df[\"text\"])\n",
    "y = df[\"label\"]\n",
    "\n",
    "X_train, X_test, y_train, y_test = train_test_split(X, y, test_size=0.2, random_state=42, stratify=y)"
   ]
  },
  {
   "cell_type": "code",
   "execution_count": null,
   "id": "452dd0d5",
   "metadata": {},
   "outputs": [],
   "source": [
    "# model training\n",
    "model = LogisticRegression(solver=\"saga\", max_iter=50, class_weight=\"balanced\")\n",
    "model.fit(X_train, y_train)"
   ]
  },
  {
   "cell_type": "code",
   "execution_count": null,
   "id": "2f4fc88d",
   "metadata": {},
   "outputs": [],
   "source": [
    "# evaluation\n",
    "y_prediction = model.predict(X_test)\n",
    "evaluation = classification_report(y_test, y_prediction, digits=4)\n",
    "print(evaluation)"
   ]
  },
  {
   "cell_type": "code",
   "execution_count": null,
   "id": "39c82346",
   "metadata": {},
   "outputs": [],
   "source": [
    "# save the model\n",
    "OUTPUT_DIR = \"models\"\n",
    "os.makedirs(OUTPUT_DIR, exist_ok=True)\n",
    "\n",
    "with open(os.path.join(OUTPUT_DIR, \"model_logistic_regression.pkl\"), \"wb\") as model_file:\n",
    "    pickle.dump(model, model_file)\n",
    "with open(os.path.join(OUTPUT_DIR, \"tfidf_vectorizer.pkl\"), \"wb\") as vectorizer_file:\n",
    "    pickle.dump(vectorizer, vectorizer_file)"
   ]
  }
 ],
 "metadata": {
  "kernelspec": {
   "display_name": "venv",
   "language": "python",
   "name": "python3"
  },
  "language_info": {
   "codemirror_mode": {
    "name": "ipython",
    "version": 3
   },
   "file_extension": ".py",
   "mimetype": "text/x-python",
   "name": "python",
   "nbconvert_exporter": "python",
   "pygments_lexer": "ipython3",
   "version": "3.13.4"
  }
 },
 "nbformat": 4,
 "nbformat_minor": 5
}
